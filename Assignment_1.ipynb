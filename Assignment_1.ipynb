{
 "cells": [
  {
   "cell_type": "code",
   "execution_count": 1,
   "metadata": {},
   "outputs": [
    {
     "name": "stdout",
     "output_type": "stream",
     "text": [
      "Twinkle, twinkle, little star,\n",
      "\tHow I wonder what you are!\n",
      "\t\tUp above the world so high,\n",
      "\t\tLike a diamond in the sky.\n",
      "Twinkle, twinkle, little star,\n",
      "\t HOw I wonder what you are\n"
     ]
    }
   ],
   "source": [
    "# question 1\n",
    "print(\"Twinkle, twinkle, little star,\\n\\tHow I wonder what you are!\\n\\t\\tUp above the world so high,\\n\\t\\tLike a diamond in the sky.\\nTwinkle, twinkle, little star,\\n\\t HOw I wonder what you are\")"
   ]
  },
  {
   "cell_type": "code",
   "execution_count": 2,
   "metadata": {},
   "outputs": [
    {
     "name": "stdout",
     "output_type": "stream",
     "text": [
      "The current Version of python which I am using is 3.7.4 (default, Aug  9 2019, 18:34:13) [MSC v.1915 64 bit (AMD64)]\n"
     ]
    }
   ],
   "source": [
    "#Question 2\n",
    "import sys\n",
    "system=sys.version\n",
    "print(\"The current Version of python which I am using is \"+ system)"
   ]
  },
  {
   "cell_type": "code",
   "execution_count": 4,
   "metadata": {},
   "outputs": [
    {
     "name": "stdout",
     "output_type": "stream",
     "text": [
      "current Date and time is 2019-11-03 13:20:37.911049\n"
     ]
    }
   ],
   "source": [
    "# question 3\n",
    "from datetime import datetime\n",
    "Current_time= datetime.now()\n",
    "print(\"current Date and time is \"+ str(Current_time))"
   ]
  },
  {
   "cell_type": "code",
   "execution_count": 5,
   "metadata": {},
   "outputs": [
    {
     "name": "stdout",
     "output_type": "stream",
     "text": [
      "Enter the radius of circle = 1\n",
      "The Area of the circle whose radius 1 is 3.141592653589793\n"
     ]
    }
   ],
   "source": [
    "# Question 4\n",
    "import math\n",
    "radius = input(\"Enter the radius of circle = \")\n",
    "Area=math.pi*pow(int(radius),2)\n",
    "print(\"The Area of the circle whose radius \"+ str(radius)+ \" is \"+ str(Area))"
   ]
  },
  {
   "cell_type": "code",
   "execution_count": 6,
   "metadata": {},
   "outputs": [
    {
     "name": "stdout",
     "output_type": "stream",
     "text": [
      "Enter the  First name :Hamza\n",
      "Enter the Last name :Saleem\n",
      "Saleem Hamza\n"
     ]
    }
   ],
   "source": [
    "# Question 5\n",
    "First_name= input(\"Enter the  First name :\")\n",
    "Last_name = input(\"Enter the Last name :\")\n",
    "print(Last_name + \" \" + First_name)"
   ]
  },
  {
   "cell_type": "code",
   "execution_count": 9,
   "metadata": {},
   "outputs": [
    {
     "name": "stdout",
     "output_type": "stream",
     "text": [
      "Enter any input hamza\n",
      "Enter any input again saleem\n",
      "hamzasaleem\n"
     ]
    }
   ],
   "source": [
    "# Question 6\n",
    "input_1 = input(\"Enter any input \")\n",
    "input_2 = input(\"Enter any input again \")\n",
    "print (input_1 + input_2)"
   ]
  },
  {
   "cell_type": "code",
   "execution_count": null,
   "metadata": {},
   "outputs": [],
   "source": []
  }
 ],
 "metadata": {
  "kernelspec": {
   "display_name": "Python 3",
   "language": "python",
   "name": "python3"
  },
  "language_info": {
   "codemirror_mode": {
    "name": "ipython",
    "version": 3
   },
   "file_extension": ".py",
   "mimetype": "text/x-python",
   "name": "python",
   "nbconvert_exporter": "python",
   "pygments_lexer": "ipython3",
   "version": "3.7.4"
  }
 },
 "nbformat": 4,
 "nbformat_minor": 2
}
