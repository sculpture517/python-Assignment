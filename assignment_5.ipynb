{
 "cells": [
  {
   "cell_type": "code",
   "execution_count": null,
   "metadata": {
    "scrolled": true
   },
   "outputs": [
    {
     "name": "stdout",
     "output_type": "stream",
     "text": [
      "Enter the number to calculate factorial : 5\n",
      "The factorial of 5  is 120\n",
      "Enter the number to calculate factorial : 8\n",
      "The factorial of 8  is 40320\n",
      "Enter the number to calculate factorial : 10\n",
      "The factorial of 10  is 3628800\n"
     ]
    }
   ],
   "source": [
    "# Question 1\n",
    "def factorial(num) :\n",
    "    nums = 1\n",
    "    for i in range(1,num+1) :\n",
    "        nums = nums * i\n",
    "    return nums\n",
    "while True :\n",
    "    user_input = int(input(\"Enter the number to calculate factorial : \"))\n",
    "    if type(user_input) == int :\n",
    "        print(\"The factorial of \" + str(user_input) + \"  is \" + str(factorial(user_input)))\n",
    "    else : \n",
    "        print(\"Invalid Number. Try Again\")"
   ]
  },
  {
   "cell_type": "code",
   "execution_count": 1,
   "metadata": {},
   "outputs": [
    {
     "name": "stdout",
     "output_type": "stream",
     "text": [
      "Enter a string to calculate number of upper and lower case letter : Hamza SaleeM\n",
      "Number of Upper case Letters : 3\n",
      "Number of Lower case Letters : 8\n"
     ]
    }
   ],
   "source": [
    "# Question 2\n",
    "def character(strings) :\n",
    "    num = 0\n",
    "    nums = 0\n",
    "    for string in strings :\n",
    "        if string.isupper() == True :\n",
    "            num += 1\n",
    "        elif string.islower() == True :\n",
    "            nums += 1\n",
    "    return (num,nums)\n",
    "\n",
    "a = input(\"Enter a string to calculate number of upper and lower case letter : \")\n",
    "b = character(a)\n",
    "print(\"Number of Upper case Letters : \" + str(b[0]))\n",
    "print(\"Number of Lower case Letters : \" + str(b[1]))"
   ]
  },
  {
   "cell_type": "code",
   "execution_count": 2,
   "metadata": {},
   "outputs": [
    {
     "name": "stdout",
     "output_type": "stream",
     "text": [
      "Even Numbers in a given list are \n",
      "4\n",
      "2\n",
      "34\n",
      "98\n",
      "24\n",
      "12\n",
      "74\n"
     ]
    }
   ],
   "source": [
    "# Question 3\n",
    "def Even_Numbers(num) :\n",
    "    for i in range(len(num)) :\n",
    "        if num[i] % 2 == 0 :\n",
    "            print(num[i])\n",
    "  \n",
    "a = [1,4,5,2,57,65,34,98,43,23,24,12,25,74]\n",
    "print(\"Even Numbers in a given list are \")\n",
    "Even_Numbers(a)\n"
   ]
  },
  {
   "cell_type": "code",
   "execution_count": null,
   "metadata": {},
   "outputs": [
    {
     "name": "stdout",
     "output_type": "stream",
     "text": [
      "Enter a word to check that word is palindrome or not : meter\n",
      "meter is not a Palindrome.\n",
      "Enter a word to check that word is palindrome or not : redder\n",
      "redder is a Palindrome.\n",
      "Enter a word to check that word is palindrome or not : madam\n",
      "madam is a Palindrome.\n",
      "Enter a word to check that word is palindrome or not : word\n",
      "word is not a Palindrome.\n"
     ]
    }
   ],
   "source": [
    "# Question 4\n",
    "def palindrome(word) :\n",
    "    Reverse_Word = word[::-1]\n",
    "    if word == Reverse_Word :\n",
    "        print(word + \" is a Palindrome.\")\n",
    "    else :\n",
    "        print(word + \" is not a Palindrome.\")\n",
    "while True :\n",
    "    user_input = input(\"Enter a word to check that word is palindrome or not : \")\n",
    "    if type(user_input) == str :\n",
    "        palindrome(user_input)\n",
    "    else :\n",
    "        print(\"Invalid input, Try Again\")"
   ]
  },
  {
   "cell_type": "code",
   "execution_count": null,
   "metadata": {},
   "outputs": [
    {
     "name": "stdout",
     "output_type": "stream",
     "text": [
      "Enter a number to check it is prime number or not : 23\n",
      "23 is a prime number.\n",
      "Enter a number to check it is prime number or not : 22\n",
      "22 is not a prime number\n",
      "Enter a number to check it is prime number or not : 33\n",
      "33 is not a prime number\n",
      "Enter a number to check it is prime number or not : 43\n",
      "43 is a prime number.\n",
      "Enter a number to check it is prime number or not : 12\n",
      "12 is not a prime number\n",
      "Enter a number to check it is prime number or not : 3\n",
      "3 is a prime number.\n"
     ]
    }
   ],
   "source": [
    "# Question 5\n",
    "def Prime(num) :\n",
    "    flag = 0\n",
    "    for i in range(2,num):  \n",
    "       if (num % i) == 0: \n",
    "           print(num, \"is not a prime number\")\n",
    "           flag = 1\n",
    "           break\n",
    "\n",
    "    if flag == 0 :\n",
    "        print(num,\"is a prime number.\")\n",
    "       \n",
    "while True :\n",
    "    user_input = int(input(\"Enter a number to check it is prime number or not : \"))\n",
    "    Prime(user_input)"
   ]
  },
  {
   "cell_type": "code",
   "execution_count": 1,
   "metadata": {},
   "outputs": [
    {
     "name": "stdout",
     "output_type": "stream",
     "text": [
      "Enter items bought by the customer and  \"e\" for exit.\n",
      "\n",
      "Enter Customer Name : Hamza Saleem\n",
      "Enter Item name : Rice\n",
      "Enter Item name : Sugar\n",
      "Enter Item name : Cold drink\n",
      "Enter Item name : Grocery\n",
      "Enter Item name : Water bottle\n",
      "Enter Item name : Chocolate\n",
      "Enter Item name : e\n",
      "\n",
      "\n",
      "\n",
      "Customer Name : Hamza Saleem\n",
      "The Items bought by the customer are \n",
      "Rice\n",
      "Sugar\n",
      "Cold drink\n",
      "Grocery\n",
      "Water bottle\n",
      "Chocolate\n"
     ]
    }
   ],
   "source": [
    "# Question 6\n",
    "list_1 = []\n",
    "def AddItems(item) :\n",
    "    list_1.append(item)\n",
    "\n",
    "def ItemList(name, *item_list) :\n",
    "    print(\"\\n\\n\\nCustomer Name : \"+ name)\n",
    "    print(\"The Items bought by the customer are \")\n",
    "    for item in list_1 :\n",
    "        print(\"{}\".format(item))\n",
    "\n",
    "print(\"Enter items bought by the customer and  \\\"e\\\" for exit.\\n\")\n",
    "customer_name = input(\"Enter Customer Name : \")\n",
    "while True :\n",
    "    user_input = input(\"Enter Item name : \")\n",
    "    if user_input != \"e\" :\n",
    "        AddItems(user_input)\n",
    "    else :\n",
    "        break\n",
    "        \n",
    "ItemList(customer_name, list_1)"
   ]
  },
  {
   "cell_type": "code",
   "execution_count": null,
   "metadata": {},
   "outputs": [],
   "source": []
  }
 ],
 "metadata": {
  "kernelspec": {
   "display_name": "Python 3",
   "language": "python",
   "name": "python3"
  },
  "language_info": {
   "codemirror_mode": {
    "name": "ipython",
    "version": 3
   },
   "file_extension": ".py",
   "mimetype": "text/x-python",
   "name": "python",
   "nbconvert_exporter": "python",
   "pygments_lexer": "ipython3",
   "version": "3.7.4"
  }
 },
 "nbformat": 4,
 "nbformat_minor": 2
}
