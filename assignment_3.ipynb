{
 "cells": [
  {
   "cell_type": "code",
   "execution_count": 29,
   "metadata": {},
   "outputs": [
    {
     "name": "stdout",
     "output_type": "stream",
     "text": [
      "Enter 1st value : 4\n",
      "Enter operator (** for power)*\n",
      "Enter 2nd Value : 5\n",
      "20.0\n"
     ]
    }
   ],
   "source": [
    "# Question 1\n",
    "\n",
    "value_1 = float(input(\"Enter 1st value : \"))\n",
    "operator = input(\"Enter operator (** for power)\")\n",
    "value_2 = float(input(\"Enter 2nd Value : \"))\n",
    "if operator == \"+\" :\n",
    "    print(value_1 + value_2)\n",
    "elif operator == \"-\" :\n",
    "    print( value_1 - value_2)\n",
    "elif operator == \"*\" :\n",
    "    print(value_1 * value_2)\n",
    "elif operator == \"/\" :\n",
    "    print(value_1/value_2)\n",
    "elif operator == \"**\" :\n",
    "    print(value_1 ** value_2)\n",
    "else :\n",
    "    print(\"You enter inappropriate operator\")"
   ]
  },
  {
   "cell_type": "code",
   "execution_count": 31,
   "metadata": {},
   "outputs": [
    {
     "name": "stdout",
     "output_type": "stream",
     "text": [
      "Numerical Number exist in the list\n"
     ]
    }
   ],
   "source": [
    "#Question 2\n",
    "\n",
    "list_1 = [\"a\",\"b\",\"c\",\"d\",\"e\",5,\"f\",\"g\"]\n",
    "flag =0\n",
    "for i in range(6) :\n",
    "    if type(list_1[i])== int :\n",
    "        print(\"Numerical Number exist in the list\")\n",
    "        flag = 1\n",
    "        break\n",
    "\n",
    "\n",
    "if flag == 0 :\n",
    "    print(\"No Numerical Number Exist in the list\")"
   ]
  },
  {
   "cell_type": "code",
   "execution_count": 32,
   "metadata": {},
   "outputs": [
    {
     "name": "stdout",
     "output_type": "stream",
     "text": [
      "Current dictionary{'name': 'hamza', 'age': 22, 'color': 'brown'}\n",
      "Enter key which you like to add in dictionary : hobbies\n",
      "Enter value for above key : cricket\n",
      "New dictionary{'name': 'hamza', 'age': 22, 'color': 'brown', 'hobbies': 'cricket'}\n"
     ]
    }
   ],
   "source": [
    "#Question 3\n",
    "\n",
    "dictionary = {'name': 'hamza', 'age' : 22 , 'color' : 'brown'}\n",
    "print(\"Current dictionary\" + str(dictionary))\n",
    "key = input(\"Enter key which you like to add in dictionary : \")\n",
    "value = input(\"Enter value for above key : \")\n",
    "dictionary[key]=value\n",
    "print(\"New dictionary\" + str(dictionary))"
   ]
  },
  {
   "cell_type": "code",
   "execution_count": 33,
   "metadata": {},
   "outputs": [
    {
     "name": "stdout",
     "output_type": "stream",
     "text": [
      "3322\n"
     ]
    }
   ],
   "source": [
    "#Question 4\n",
    "\n",
    "dictionary = {\"name\" : \"hamza\",\"age\" : 23 , \"amount\" : 3200 , 3 : \"three\",\"marks\" : 96}\n",
    "list_1 = []\n",
    "list_2 = []\n",
    "Sum = 0\n",
    "for key,value in dictionary.items() :\n",
    "    list_1.append(value)\n",
    "    list_2.append(key)\n",
    "for i in range(len(list_1)) :\n",
    "    if type(list_1[i]) == int :\n",
    "        Sum += list_1[i]\n",
    "for i in range(len(list_2)) :\n",
    "    if type(list_2[i]) == int :\n",
    "        Sum += list_2[i]\n",
    "    \n",
    "print(Sum) "
   ]
  },
  {
   "cell_type": "code",
   "execution_count": 37,
   "metadata": {},
   "outputs": [
    {
     "name": "stdout",
     "output_type": "stream",
     "text": [
      "Duplicate Values exist in the list is hamza\n",
      "Duplicate Values exist in the list is zain\n"
     ]
    }
   ],
   "source": [
    "# Question 5\n",
    "list_1 = [\"hamza\",\"saleem\",\"ali\",\"zain\",\"abbas\",\"zain\",\"raza\",\"hamza\"]\n",
    "flag = 0\n",
    "for i in range(len(list_1)) :\n",
    "    for j in range(len(list_1)) :\n",
    "        if list_1[j] == list_1[i] and i !=j and j >= i :\n",
    "            print(\"Duplicate Values exist in the list is \"+str(list_1[i]))\n",
    "            flag =1\n",
    "            break\n",
    "if flag == 0 :\n",
    "    print(\"No Duplicate Value in the List\")"
   ]
  },
  {
   "cell_type": "code",
   "execution_count": 28,
   "metadata": {},
   "outputs": [
    {
     "name": "stdout",
     "output_type": "stream",
     "text": [
      "Enter Key : name\n",
      "Key already Exist\n"
     ]
    }
   ],
   "source": [
    "#Question 6\n",
    "dictionary = {\"name\" : \"hamza\" , \"age\" : 22 , \"color\" : \"brown\"}\n",
    "list_1 = []\n",
    "flag = 0\n",
    "for key,value in dictionary.items() :\n",
    "    list_1.append(key)\n",
    "key_1 = input(\"Enter Key : \")\n",
    "for i in range(len(list_1)) :\n",
    "    if key_1 == list_1[i] :\n",
    "        print(\"Key already Exist\")\n",
    "        flag = 1\n",
    "        break\n",
    "if flag == 0 :\n",
    "    value_1 = input(\"Enter corresponding value : \")\n",
    "    dictionary[key_1]=value_1\n",
    "    print(\"New dictionary = \" + str(dictionary))\n",
    "      "
   ]
  },
  {
   "cell_type": "code",
   "execution_count": null,
   "metadata": {},
   "outputs": [],
   "source": []
  }
 ],
 "metadata": {
  "kernelspec": {
   "display_name": "Python 3",
   "language": "python",
   "name": "python3"
  },
  "language_info": {
   "codemirror_mode": {
    "name": "ipython",
    "version": 3
   },
   "file_extension": ".py",
   "mimetype": "text/x-python",
   "name": "python",
   "nbconvert_exporter": "python",
   "pygments_lexer": "ipython3",
   "version": "3.7.4"
  }
 },
 "nbformat": 4,
 "nbformat_minor": 2
}
