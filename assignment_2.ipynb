{
 "cells": [
  {
   "cell_type": "code",
   "execution_count": 27,
   "metadata": {},
   "outputs": [
    {
     "name": "stdout",
     "output_type": "stream",
     "text": [
      "Enter Chemistry Marks Out of 100 :98\n",
      "Enter Physics Marks Out of 100 :97\n",
      "Enter Maths Marks Out of 100 :100\n",
      "Enter English Marks Out of 100 :78\n",
      "Enter Urdu Marks Out of 100 :81\n",
      "Your Percentage is 90.8%\n",
      "Grade A+\n"
     ]
    }
   ],
   "source": [
    "# Question 1\n",
    "chemistry = float(input(\"Enter Chemistry Marks Out of 100 :\"))\n",
    "physics = float(input(\"Enter Physics Marks Out of 100 :\"))\n",
    "maths = float(input(\"Enter Maths Marks Out of 100 :\"))\n",
    "english = float(input(\"Enter English Marks Out of 100 :\"))\n",
    "urdu = float(input(\"Enter Urdu Marks Out of 100 :\"))\n",
    "Total_Marks = chemistry + physics + maths + english + urdu\n",
    "percentage = (Total_Marks/500)*100\n",
    "if percentage >=80 and percentage <= 100 :\n",
    "    print (\"Your Percentage is \"+ str(percentage)+\"%\")\n",
    "    print(\"Grade A+\")\n",
    "elif percentage >=70 and percentage < 80 :\n",
    "    print (\"Your Percentage is \"+ str(percentage)+\"%\")\n",
    "    print(\"Grade A\")\n",
    "elif percentage >=60 and percentage <70 :\n",
    "    print (\"Your Percentage is \"+ str(percentage)+\"%\")\n",
    "    print(\"Grade B\")\n",
    "elif percentage >=50 and percentage <60 :\n",
    "    print (\"Your Percentage is \"+ str(percentage)+\"%\")\n",
    "    print(\"Grade C\")\n",
    "elif percentage >=40 and percentage <50 :\n",
    "    print (\"Your Percentage is \"+ str(percentage)+\"%\")\n",
    "    print(\"Grade D\")\n",
    "elif percentage >=33 and percentage <40 :\n",
    "    print (\"Your Percentage is \"+ str(percentage)+\"%\")\n",
    "    print(\"Grade E\")\n",
    "elif percentage >=0 and percentage <33 :\n",
    "    print (\"Your Percentage is \"+ str(percentage)+\"%\")\n",
    "    print(\"Grade F (Failed)\")\n",
    "else :\n",
    "    print(\"You Enter Inappropriate Marks\")"
   ]
  },
  {
   "cell_type": "code",
   "execution_count": 10,
   "metadata": {},
   "outputs": [
    {
     "name": "stdout",
     "output_type": "stream",
     "text": [
      "Enter any number :13\n",
      "Enter Number is ODD\n"
     ]
    }
   ],
   "source": [
    "# Question 2\n",
    "number = int(input(\"Enter any number :\"))\n",
    "if number % 2 == 0 :\n",
    "    print(\"Enter Number is EVEN\")\n",
    "else :\n",
    "    print(\"Enter Number is ODD\")"
   ]
  },
  {
   "cell_type": "code",
   "execution_count": 12,
   "metadata": {},
   "outputs": [
    {
     "name": "stdout",
     "output_type": "stream",
     "text": [
      "Length of the given list is 11\n"
     ]
    }
   ],
   "source": [
    "# Question 3\n",
    "List = [1,2,4,6,11,34,65,\"hamza\",43,10,3]\n",
    "print(\"Length of the given list is \"+ str(len(List)))"
   ]
  },
  {
   "cell_type": "code",
   "execution_count": 25,
   "metadata": {},
   "outputs": [
    {
     "name": "stdout",
     "output_type": "stream",
     "text": [
      "Sum of all numeric items in the given list is 402\n"
     ]
    }
   ],
   "source": [
    "# Question 4\n",
    "List = [1,4,6,2,14,87,56,35,64,101,32]\n",
    "Sum=0\n",
    "for i in range(11) :\n",
    "    Sum = Sum + List[i]\n",
    "print(\"Sum of all numeric items in the given list is \"+ str(Sum))\n"
   ]
  },
  {
   "cell_type": "code",
   "execution_count": 26,
   "metadata": {},
   "outputs": [
    {
     "name": "stdout",
     "output_type": "stream",
     "text": [
      "The Largest Number present in the List is 121\n"
     ]
    }
   ],
   "source": [
    "# Question 5\n",
    "List = [1,4,6,8,3,7,3,14,75,23,10,121,65,34,66,78,98,65,2,6]\n",
    "print(\"The Largest Number present in the List is \"+ str(max(List)))"
   ]
  },
  {
   "cell_type": "code",
   "execution_count": 24,
   "metadata": {},
   "outputs": [
    {
     "name": "stdout",
     "output_type": "stream",
     "text": [
      "1\n",
      "1\n",
      "2\n",
      "3\n"
     ]
    }
   ],
   "source": [
    "# Question 6\n",
    "List = [1,1,2,3,5,8,13,21,34,55,89]\n",
    "for i in range(11) :\n",
    "    if List[i] < 5 :\n",
    "        print(List[i])"
   ]
  }
 ],
 "metadata": {
  "kernelspec": {
   "display_name": "Python 3",
   "language": "python",
   "name": "python3"
  },
  "language_info": {
   "codemirror_mode": {
    "name": "ipython",
    "version": 3
   },
   "file_extension": ".py",
   "mimetype": "text/x-python",
   "name": "python",
   "nbconvert_exporter": "python",
   "pygments_lexer": "ipython3",
   "version": "3.7.4"
  }
 },
 "nbformat": 4,
 "nbformat_minor": 2
}
