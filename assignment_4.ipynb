{
 "cells": [
  {
   "cell_type": "code",
   "execution_count": 2,
   "metadata": {},
   "outputs": [
    {
     "name": "stdout",
     "output_type": "stream",
     "text": [
      "Initial Information\n",
      "{'first_name': 'hamza', 'last_name ': 'saleem', 'age': 23, 'city': 'karachi'}\n",
      "Enter your qualification to highest level : bachelors\n",
      "\n",
      "\n",
      "Updated Information after adding qualification\n",
      "{'first_name': 'hamza', 'last_name ': 'saleem', 'age': 23, 'city': 'karachi', 'qualification': 'bachelors'}\n",
      "\n",
      "\n",
      "Updated Information after deleting qualification\n",
      "{'first_name': 'hamza', 'last_name ': 'saleem', 'age': 23, 'city': 'karachi'}\n"
     ]
    }
   ],
   "source": [
    "# Question 1\n",
    "information = {\n",
    "    \"first_name\" : \"hamza\",\n",
    "    \"last_name \" : \"saleem\",\n",
    "    \"age\" : 23,\n",
    "    \"city\" : \"karachi\"\n",
    "}\n",
    "print(\"Initial Information\\n\" + str(information))\n",
    "qualification = input(\"Enter your qualification to highest level : \")\n",
    "information[\"qualification\"] = qualification\n",
    "print(\"\\n\\nUpdated Information after adding qualification\\n\" + str(information))\n",
    "del information[\"qualification\"]\n",
    "print(\"\\n\\nUpdated Information after deleting qualification\\n\" + str(information))"
   ]
  },
  {
   "cell_type": "code",
   "execution_count": 1,
   "metadata": {},
   "outputs": [
    {
     "name": "stdout",
     "output_type": "stream",
     "text": [
      "karachi\n",
      "country : pakistan\n",
      "population : 15741000\n",
      "fact : Karachites are crazy about food.\n",
      "\n",
      "\n",
      "Colombo\n",
      "country : Sri Lanka\n",
      "population : 606000\n",
      "fact : Capital of Sri Lanka\n",
      "\n",
      "\n",
      "Islamabad\n",
      "country : pakistan\n",
      "population : 216565318\n",
      "fact : Capital of Pakistan\n",
      "\n",
      "\n"
     ]
    }
   ],
   "source": [
    "# Question 2\n",
    "cities = {\n",
    "    \"karachi\" :\n",
    "    {\n",
    "        \"country\" : \"pakistan\",\n",
    "        \"population\" : 15741000 , \n",
    "        \"fact\" : \"Karachites are crazy about food.\"\n",
    "    },\n",
    "    \"Colombo\" :\n",
    "    {\n",
    "        \"country\" : \"Sri Lanka\",\n",
    "        \"population\" : 606000 , \n",
    "        \"fact\" : \"Capital of Sri Lanka\"  \n",
    "    },\n",
    "    \"Islamabad\" : \n",
    "    {\n",
    "        \"country\" : \"pakistan\",\n",
    "        \"population\" : 216565318 , \n",
    "        \"fact\" : \"Capital of Pakistan\"  \n",
    "    }\n",
    "}\n",
    "for key , values in cities.items() :\n",
    "    print(key)\n",
    "    print(\"country : \" + str(values[\"country\"])+\"\\npopulation : \" + str(values[\"population\"])+\"\\nfact : \" + str(values[\"fact\"])+\"\\n\\n\")"
   ]
  },
  {
   "cell_type": "code",
   "execution_count": 3,
   "metadata": {},
   "outputs": [
    {
     "name": "stdout",
     "output_type": "stream",
     "text": [
      "Enter 1 for check ticket price or any other key for exit : 1\n",
      "Enter age : 2\n",
      "Ticket is free\n",
      "Enter 1 for check ticket price or any other key for exit : 1\n",
      "Enter age : 10\n",
      "Ticket price is $10.\n",
      "Enter 1 for check ticket price or any other key for exit : 1\n",
      "Enter age : 18\n",
      "Ticket price is $15.\n",
      "Enter 1 for check ticket price or any other key for exit : 2\n"
     ]
    }
   ],
   "source": [
    "# Question 3 \n",
    "while True :\n",
    "    guess = input(\"Enter 1 for check ticket price or any other key for exit : \")\n",
    "    if int(guess) == 1 :\n",
    "        age = int(input(\"Enter age : \"))\n",
    "        if age > 0 and age < 3 :\n",
    "            print(\"Ticket is free\")\n",
    "        elif age >= 3 and age < 12 :\n",
    "            print(\"Ticket price is $10.\")\n",
    "        elif age >=12 :\n",
    "            print(\"Ticket price is $15.\")\n",
    "        else : \n",
    "            print(\"You Enter worng age.\")\n",
    "    else : \n",
    "        break"
   ]
  },
  {
   "cell_type": "code",
   "execution_count": 4,
   "metadata": {},
   "outputs": [
    {
     "name": "stdout",
     "output_type": "stream",
     "text": [
      "Enter Your favourite Book title : Digital Signal Processing\n",
      "My favourite book is Digital Signal Processing\n"
     ]
    }
   ],
   "source": [
    "# Question 4 \n",
    "def favourite_book(title) :\n",
    "    print(\"My favourite book is \"+ str(title))\n",
    "    \n",
    "book = input(\"Enter Your favourite Book title : \")\n",
    "favourite_book(book)"
   ]
  },
  {
   "cell_type": "code",
   "execution_count": 7,
   "metadata": {},
   "outputs": [
    {
     "name": "stdout",
     "output_type": "stream",
     "text": [
      "Enter Number to guess : 12\n",
      "Your guess Number is less than correct number\n",
      "Enter Number to guess : 23\n",
      "Your guess Number is greater than correct number\n",
      "Enter Number to guess : 20\n",
      "Your guess Number is greater than correct number\n",
      "\n",
      "\n",
      "Your attempt is over\n",
      "\n",
      " You Lose the game.\n"
     ]
    }
   ],
   "source": [
    "# Question 5\n",
    "import random\n",
    "ran_num = random.randint(1,30)\n",
    "flag = 0\n",
    "for i in range(3) :\n",
    "    number = int(input(\"Enter Number to guess : \"))\n",
    "    if number == ran_num :\n",
    "        print(\"Hurrah..! You guess Correct Number\")\n",
    "        flag = 1\n",
    "        break\n",
    "    else :\n",
    "        if number < ran_num :\n",
    "            print(\"Your guess Number is less than correct number\")\n",
    "            \n",
    "        else : \n",
    "            print(\"Your guess Number is greater than correct number\")\n",
    "            \n",
    "if flag == 0 :\n",
    "    print(\"\\n\\nYour attempt is over\")\n",
    "    print(\"\\n You Lose the game.\")\n"
   ]
  },
  {
   "cell_type": "code",
   "execution_count": null,
   "metadata": {},
   "outputs": [],
   "source": []
  }
 ],
 "metadata": {
  "kernelspec": {
   "display_name": "Python 3",
   "language": "python",
   "name": "python3"
  },
  "language_info": {
   "codemirror_mode": {
    "name": "ipython",
    "version": 3
   },
   "file_extension": ".py",
   "mimetype": "text/x-python",
   "name": "python",
   "nbconvert_exporter": "python",
   "pygments_lexer": "ipython3",
   "version": "3.7.4"
  }
 },
 "nbformat": 4,
 "nbformat_minor": 2
}
